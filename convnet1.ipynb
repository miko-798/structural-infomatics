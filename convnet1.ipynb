{
 "cells": [
  {
   "cell_type": "markdown",
   "metadata": {},
   "source": [
    "# Simple Convolutional Q8 Classification -- 3/14/2017"
   ]
  },
  {
   "cell_type": "markdown",
   "metadata": {},
   "source": [
    "## Imports"
   ]
  },
  {
   "cell_type": "code",
   "execution_count": 1,
   "metadata": {
    "collapsed": false
   },
   "outputs": [
    {
     "name": "stderr",
     "output_type": "stream",
     "text": [
      "Using TensorFlow backend.\n"
     ]
    }
   ],
   "source": [
    "import numpy as np\n",
    "import tensorflow as tf\n",
    "import matplotlib.pyplot as plt\n",
    "%matplotlib inline\n",
    "\n",
    "from keras.models import Sequential, load_model\n",
    "from keras.layers import Dense, Activation\n",
    "from keras.layers.convolutional import Convolution1D\n",
    "from keras.optimizers import SGD\n",
    "from keras.regularizers import l2\n",
    "\n",
    "\n",
    "import cullpdb_loader"
   ]
  },
  {
   "cell_type": "markdown",
   "metadata": {},
   "source": [
    "## Constants and Hyperparameters"
   ]
  },
  {
   "cell_type": "code",
   "execution_count": 2,
   "metadata": {
    "collapsed": true
   },
   "outputs": [],
   "source": [
    "NUM_RESIDUES = 700  # per protein\n",
    "RESIDUE_SIZE = 22  # size of one hot vector per residue\n",
    "NUM_CLASSES = 9  # 8 + 'NoSeq'\n",
    "\n",
    "LAYER_SIZE = 100  # Number of neurons/nodes at each layer\n",
    "                  # equivalently, size of output by each convolutional layer\n",
    "WINDOW_SIZE = 11  # \"scope\" of convolution (ie 11 total residues)\n",
    "\n",
    "INPUT_SHAPE = (NUM_RESIDUES, RESIDUE_SIZE)  # see below\n",
    "OUTPUT_SIZE = NUM_CLASSES  # output matrix holding predictions\n",
    "\n",
    "LEARNING_RATE = 0.04\n",
    "EPOCHS = 30  # iterations of training, total dataset covered once each epoch\n",
    "LOSS='categorical_crossentropy'\n",
    "\n",
    "SAVE_FILE = \"models/conv3dense-3-14\"\n",
    "DATA= \"data/cullpdb+profile_6133.npy.gz\""
   ]
  },
  {
   "cell_type": "markdown",
   "metadata": {},
   "source": [
    "## Load Data\n",
    "<b>Data:</b><br> _x represents input proteins, _y represents target structure classifications (each as one-hot vectors) <br><br>\n",
    "<b>Data Shape:</b><br> First dimension represents number of proteins, second number of residues per protein, and third size of residue or structure vector.<br> For example, train_x is shape (5600, 700, 22): it is an <b>m * n * p</b> matrix where there are <b>m</b> proteins (each row), <b>n</b> residues per protein (each column), and <b>p</b> sized vectors to represent a single residue or a single structure (each \"slice\")."
   ]
  },
  {
   "cell_type": "code",
   "execution_count": 3,
   "metadata": {
    "collapsed": false
   },
   "outputs": [
    {
     "name": "stdout",
     "output_type": "stream",
     "text": [
      "Loading protein residues and labels...\n",
      "Loading file from C:\\SANJAY\\CS\\Projects\\sdscbio\\data\\cullpdb+profile_6133.npy.gz...\n",
      "File Loaded.\n",
      "Loaded protein residues and labels.\n",
      "(5600, 700, 22)\n",
      "(5600, 700, 9)\n",
      "(256, 700, 22)\n",
      "(256, 700, 9)\n"
     ]
    }
   ],
   "source": [
    "train, validation, test = cullpdb_loader.load_residues_2D(DATA)  # load from my helper file\n",
    "\n",
    "# train, validation, and test were loaded as tuples of (input, output);\n",
    "# here we unpack them into separate variables:\n",
    "train_x, train_y = train\n",
    "vali_x, vali_y = validation\n",
    "test_x, test_y = test\n",
    "\n",
    "# print to verify data was loaded in correct shapes:\n",
    "print(train_x.shape)\n",
    "print(train_y.shape)\n",
    "print(vali_x.shape)\n",
    "print(vali_y.shape)"
   ]
  },
  {
   "cell_type": "markdown",
   "metadata": {},
   "source": [
    "## Model Architecture\n",
    "The model is constructed to currently have 3 convolutional layers.<br><br>\n",
    "Interpretation 1: Each \"node\" in a convolutional layer is like a fully connected node in a typical feedforward neural network, except instead of receiving from every feature (residue) of the input set, it only receives a local \"window\" of features.<br><br>\n",
    "Interpretation 2: A convolutional window \"slides\" across the input, each time taking the nearest <i>WINDOW_SIZE</i> number of features (residues) as inputs and outputing a single value, where <i>LAYER_SIZE</i> number of values are output.\n",
    "<br><br>\n",
    "Finally a \"dense\", fully connected layer reduces the dimensionality of the data from the previous <i>LAYER_SIZE</i> dimensions to <i>OUTPUT_SIZE</i> dimensions (here 9, 8 for each secondary structure class and 1 for None)."
   ]
  },
  {
   "cell_type": "code",
   "execution_count": 4,
   "metadata": {
    "collapsed": false
   },
   "outputs": [],
   "source": [
    "model = Sequential()\n",
    "\n",
    "# 1st layer\n",
    "# border_mode indicates how the convolution handles the edges of the input (where the window \"sticks out\").\n",
    "# The 'same' setting pads the inputs with zeros on either side.\n",
    "# Only the first layer requires an input_shape parameter; successive layers infer it from within the model.\n",
    "model.add(Convolution1D(\n",
    "        LAYER_SIZE, WINDOW_SIZE, activation='tanh', border_mode='same', input_shape=INPUT_SHAPE))\n",
    "# 2nd layer\n",
    "model.add(Convolution1D(\n",
    "        LAYER_SIZE, WINDOW_SIZE, activation='tanh', border_mode='same'))\n",
    "# 3rd layer\n",
    "model.add(Convolution1D(\n",
    "        LAYER_SIZE, WINDOW_SIZE, activation='tanh', border_mode='same'))\n",
    "\n",
    "# 4th layer\n",
    "#model.add(Convolution1D(LAYER_SIZE, WINDOW_SIZE,\n",
    "#                        activation=Activation('tanh'), border_mode='same'))\n",
    "# 5th layer\n",
    "#model.add(Convolution1D(LAYER_SIZE, WINDOW_SIZE, \n",
    "#                        activation=Activation('tanh'), border_mode='same'))\n",
    "\n",
    "# Experiment - Dense final layer\n",
    "# 'lecun_uniform' indicates that the weights should be initialized to small random values in a certain normal distribution.\n",
    "model.add(Dense(OUTPUT_SIZE, init='lecun_uniform', activation='softmax'))\n"
   ]
  },
  {
   "cell_type": "markdown",
   "metadata": {},
   "source": [
    "### Compile the model given a loss function and learning rate (specified above)"
   ]
  },
  {
   "cell_type": "code",
   "execution_count": 5,
   "metadata": {
    "collapsed": true
   },
   "outputs": [],
   "source": [
    "# optimizer= takes either string or optimizer object\n",
    "model.compile(loss=LOSS, optimizer=SGD(lr=LEARNING_RATE), metrics=['accuracy'])"
   ]
  },
  {
   "cell_type": "markdown",
   "metadata": {},
   "source": [
    "### Train the model on training data against target training labels, showing accuracy on validation data each epoch"
   ]
  },
  {
   "cell_type": "code",
   "execution_count": 6,
   "metadata": {
    "collapsed": false
   },
   "outputs": [
    {
     "name": "stdout",
     "output_type": "stream",
     "text": [
      "Train on 5600 samples, validate on 256 samples\n",
      "Epoch 1/30\n",
      "99s - loss: 0.6970 - acc: 0.7773 - val_loss: 0.4939 - val_acc: 0.8040\n",
      "Epoch 2/30\n",
      "104s - loss: 0.4953 - acc: 0.8044 - val_loss: 0.4882 - val_acc: 0.8042\n",
      "Epoch 3/30\n",
      "101s - loss: 0.4919 - acc: 0.8049 - val_loss: 0.4860 - val_acc: 0.8050\n",
      "Epoch 4/30\n",
      "102s - loss: 0.4896 - acc: 0.8054 - val_loss: 0.4837 - val_acc: 0.8054\n",
      "Epoch 5/30\n",
      "106s - loss: 0.4867 - acc: 0.8062 - val_loss: 0.4804 - val_acc: 0.8058\n",
      "Epoch 6/30\n",
      "102s - loss: 0.4826 - acc: 0.8072 - val_loss: 0.4758 - val_acc: 0.8072\n",
      "Epoch 7/30\n",
      "106s - loss: 0.4769 - acc: 0.8098 - val_loss: 0.4698 - val_acc: 0.8142\n",
      "Epoch 8/30\n",
      "108s - loss: 0.4703 - acc: 0.8164 - val_loss: 0.4637 - val_acc: 0.8206\n",
      "Epoch 9/30\n",
      "108s - loss: 0.4644 - acc: 0.8222 - val_loss: 0.4589 - val_acc: 0.8238\n",
      "Epoch 10/30\n",
      "105s - loss: 0.4600 - acc: 0.8253 - val_loss: 0.4556 - val_acc: 0.8254\n",
      "Epoch 11/30\n",
      "103s - loss: 0.4570 - acc: 0.8268 - val_loss: 0.4531 - val_acc: 0.8267\n",
      "Epoch 12/30\n",
      "103s - loss: 0.4546 - acc: 0.8279 - val_loss: 0.4510 - val_acc: 0.8274\n",
      "Epoch 13/30\n",
      "103s - loss: 0.4526 - acc: 0.8286 - val_loss: 0.4492 - val_acc: 0.8284\n",
      "Epoch 14/30\n",
      "104s - loss: 0.4509 - acc: 0.8293 - val_loss: 0.4476 - val_acc: 0.8289\n",
      "Epoch 15/30\n",
      "104s - loss: 0.4495 - acc: 0.8299 - val_loss: 0.4462 - val_acc: 0.8293\n",
      "Epoch 16/30\n",
      "104s - loss: 0.4482 - acc: 0.8305 - val_loss: 0.4449 - val_acc: 0.8303\n",
      "Epoch 17/30\n",
      "104s - loss: 0.4469 - acc: 0.8310 - val_loss: 0.4436 - val_acc: 0.8311\n",
      "Epoch 18/30\n",
      "104s - loss: 0.4458 - acc: 0.8315 - val_loss: 0.4424 - val_acc: 0.8319\n",
      "Epoch 19/30\n",
      "104s - loss: 0.4446 - acc: 0.8320 - val_loss: 0.4411 - val_acc: 0.8324\n",
      "Epoch 20/30\n",
      "104s - loss: 0.4433 - acc: 0.8325 - val_loss: 0.4398 - val_acc: 0.8328\n",
      "Epoch 21/30\n",
      "104s - loss: 0.4420 - acc: 0.8330 - val_loss: 0.4383 - val_acc: 0.8336\n",
      "Epoch 22/30\n",
      "104s - loss: 0.4405 - acc: 0.8335 - val_loss: 0.4367 - val_acc: 0.8342\n",
      "Epoch 23/30\n",
      "104s - loss: 0.4389 - acc: 0.8340 - val_loss: 0.4349 - val_acc: 0.8347\n",
      "Epoch 24/30\n",
      "105s - loss: 0.4371 - acc: 0.8345 - val_loss: 0.4330 - val_acc: 0.8354\n",
      "Epoch 25/30\n",
      "105s - loss: 0.4352 - acc: 0.8350 - val_loss: 0.4310 - val_acc: 0.8357\n",
      "Epoch 26/30\n",
      "104s - loss: 0.4333 - acc: 0.8355 - val_loss: 0.4291 - val_acc: 0.8362\n",
      "Epoch 27/30\n",
      "105s - loss: 0.4315 - acc: 0.8361 - val_loss: 0.4274 - val_acc: 0.8369\n",
      "Epoch 28/30\n",
      "105s - loss: 0.4300 - acc: 0.8367 - val_loss: 0.4260 - val_acc: 0.8373\n",
      "Epoch 29/30\n",
      "104s - loss: 0.4287 - acc: 0.8372 - val_loss: 0.4248 - val_acc: 0.8376\n",
      "Epoch 30/30\n",
      "104s - loss: 0.4276 - acc: 0.8376 - val_loss: 0.4239 - val_acc: 0.8380\n",
      "Done training\n"
     ]
    }
   ],
   "source": [
    "# verbose: 0 for no logging to stdout, 1 for progress bar logging, 2 for one log line per epoch.\n",
    "hist = model.fit(train_x, train_y, nb_epoch=EPOCHS, \n",
    "          validation_data=(vali_x, vali_y), shuffle=False, verbose=2)\n",
    "print(\"Done training\")"
   ]
  },
  {
   "cell_type": "code",
   "execution_count": 7,
   "metadata": {
    "collapsed": false
   },
   "outputs": [],
   "source": [
    "model.save(SAVE_FILE)"
   ]
  },
  {
   "cell_type": "code",
   "execution_count": 8,
   "metadata": {
    "collapsed": false
   },
   "outputs": [
    {
     "data": {
      "text/plain": [
       "[<matplotlib.lines.Line2D at 0xcaec7b8>]"
      ]
     },
     "execution_count": 8,
     "metadata": {},
     "output_type": "execute_result"
    },
    {
     "data": {
      "image/png": "[encoded data removed]",
      "text/plain": [
       "<matplotlib.figure.Figure at 0xc5d8390>"
      ]
     },
     "metadata": {},
     "output_type": "display_data"
    }
   ],
   "source": [
    "validation_loss = list(hist.history.values())[0]\n",
    "plt.plot(range(EPOCHS), validation_loss)"
   ]
  },
  {
   "cell_type": "markdown",
   "metadata": {},
   "source": [
    "## RESULTS (so far)\n",
    "\n",
    "*UNPLUGGED* 1 conv layer (100), dense layer, 10 epochs, lr = 0.01 -- 35s/epoch, validation loss = 0.50, val acc = 0.80 (still increasing by end of training)\n",
    "<br>\n",
    "*UNPLUGGED* 3 conv layer (100), dense layer, 10 epochs, lr = 0.01 -- 185s/epoch, val loss =  0.487, val acc = 0.804 (still increasing by end of training)\n",
    "<br>\n",
    "3 conv layer (100), dense layer, 30 epochs, lr = 0.04 -- 105s/epoch, val loss = 0.424, val acc = 0.838 (still increasing by end of training)\n",
    "\n",
    "(*laptop unplugged => reduced computational power, longer training)"
   ]
  },
  {
   "cell_type": "code",
   "execution_count": null,
   "metadata": {
    "collapsed": true
   },
   "outputs": [],
   "source": []
  }
 ],
 "metadata": {
  "kernelspec": {
   "display_name": "Python [conda env:sdscbio]",
   "language": "python",
   "name": "conda-env-sdscbio-py"
  },
  "language_info": {
   "codemirror_mode": {
    "name": "ipython",
    "version": 3
   },
   "file_extension": ".py",
   "mimetype": "text/x-python",
   "name": "python",
   "nbconvert_exporter": "python",
   "pygments_lexer": "ipython3",
   "version": "3.5.2"
  }
 },
 "nbformat": 4,
 "nbformat_minor": 1
}
