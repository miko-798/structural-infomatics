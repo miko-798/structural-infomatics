{
 "cells": [
  {
   "cell_type": "markdown",
   "metadata": {},
   "source": [
    "# Keras Feed Forward Fully Connected Q8 Classification"
   ]
  },
  {
   "cell_type": "code",
   "execution_count": 2,
   "metadata": {
    "collapsed": false
   },
   "outputs": [],
   "source": [
    "import time\n",
    "import numpy as np\n",
    "%matplotlib inline\n",
    "import matplotlib.pyplot as plt\n",
    "\n",
    "import tensorflow as tf\n",
    "from keras.models import Sequential\n",
    "from keras.layers import Dense, Activation\n",
    "from keras.optimizers import SGD\n",
    "from keras.regularizers import l2\n",
    "\n",
    "import data_loader"
   ]
  },
  {
   "cell_type": "code",
   "execution_count": 5,
   "metadata": {
    "collapsed": true
   },
   "outputs": [],
   "source": [
    "# Hyper params and constants\n",
    "IMAGE_SIZE = 28\n",
    "\n",
    "INPUT_SIZE = IMAGE_SIZE * IMAGE_SIZE\n",
    "HIDDEN_SIZE = 200\n",
    "OUTPUT_SIZE = 10\n",
    "\n",
    "LEARNING_RATE = 0.05\n",
    "ALPHA = 0.0001\n",
    "EPOCHS = 5\n",
    "MINIBATCH_SIZE = 5\n",
    "\n",
    "LOSS='categorical_crossentropy'\n",
    "\n",
    "# File to save trained model to\n",
    "SAVE_FILE = \"/models/feedforward-q8\""
   ]
  },
  {
   "cell_type": "code",
   "execution_count": 6,
   "metadata": {
    "collapsed": false
   },
   "outputs": [
    {
     "name": "stdout",
     "output_type": "stream",
     "text": [
      "Loading protein residues and labels...\n",
      "Loading file from C:\\SANJAY\\CS\\Projects\\sdscbio\\data\\cullpdb+profile_6133.npy.gz...\n",
      "File Loaded.\n",
      "Loaded protein residues and labels.\n"
     ]
    }
   ],
   "source": [
    "# Load data -- from net_tf.py\n",
    "\n",
    "path = \"data/cullpdb+profile_6133.npy.gz\"\n",
    "\n",
    "train, validation, test = data_loader.load_residues(path)\n",
    "\n",
    "train_x, train_y = train\n",
    "vali_x, vali_y = validation\n",
    "test_x, test_y = test"
   ]
  },
  {
   "cell_type": "code",
   "execution_count": 7,
   "metadata": {
    "collapsed": false
   },
   "outputs": [
    {
     "name": "stdout",
     "output_type": "stream",
     "text": [
      "Input dimensionality: 22\n",
      "Output num classes 9\n"
     ]
    }
   ],
   "source": [
    "dim = len(train_x[0])\n",
    "classes = len(train_y[0])\n",
    "print(\"Input dimensionality:\", dim)\n",
    "print(\"Output num classes:\", classes)\n",
    "\n",
    "model = Sequential()\n",
    "\n",
    "model.add(Dense(HIDDEN_SIZE, init='lecun_uniform', input_dim=dim, W_regularizer=l2(ALPHA)))\n",
    "model.add(Activation('relu'))\n",
    "model.add(Dense(classes, init='lecun_uniform', W_regularizer=l2(ALPHA)))\n",
    "model.add(Activation('sigmoid'))"
   ]
  },
  {
   "cell_type": "code",
   "execution_count": 8,
   "metadata": {
    "collapsed": false
   },
   "outputs": [],
   "source": [
    "# optimizer= takes either string or optimizer object\n",
    "model.compile(loss=LOSS, optimizer=SGD(lr=LEARNING_RATE), metrics=['accuracy'])"
   ]
  },
  {
   "cell_type": "code",
   "execution_count": 11,
   "metadata": {
    "collapsed": false
   },
   "outputs": [
    {
     "name": "stdout",
     "output_type": "stream",
     "text": [
      "Train on 5600 samples, validate on 256 samples\n",
      "Epoch 1/5\n",
      "1s - loss: 0.0227 - acc: 1.0000 - val_loss: 0.0224 - val_acc: 1.0000\n",
      "Epoch 2/5\n",
      "1s - loss: 0.0222 - acc: 1.0000 - val_loss: 0.0219 - val_acc: 1.0000\n",
      "Epoch 3/5\n",
      "1s - loss: 0.0217 - acc: 1.0000 - val_loss: 0.0214 - val_acc: 1.0000\n",
      "Epoch 4/5\n",
      "1s - loss: 0.0212 - acc: 1.0000 - val_loss: 0.0210 - val_acc: 1.0000\n",
      "Epoch 5/5\n",
      "1s - loss: 0.0208 - acc: 1.0000 - val_loss: 0.0206 - val_acc: 1.0000\n",
      "Done training\n"
     ]
    }
   ],
   "source": [
    "# verbose: 0 for no logging to stdout, 1 for progress bar logging, 2 for one log line per epoch.\n",
    "hist = model.fit(train_x, train_y, nb_epoch=EPOCHS, batch_size=MINIBATCH_SIZE, \n",
    "          validation_data=(vali_x, vali_y), shuffle=True, verbose=2)\n",
    "print(\"Done training\")"
   ]
  },
  {
   "cell_type": "code",
   "execution_count": 10,
   "metadata": {
    "collapsed": false
   },
   "outputs": [
    {
     "name": "stdout",
     "output_type": "stream",
     "text": [
      "{'val_loss': [0.029251052263134625, 0.025541972689097747, 0.024319348696735688, 0.023550771555164829, 0.022939992086321581], 'val_acc': [1.0, 1.0, 1.0, 1.0, 1.0], 'loss': [0.23013380625218685, 0.026919598727753121, 0.024866075504438152, 0.023915814709783132, 0.023237038699776998], 'acc': [0.99910714288375202, 1.0, 1.0, 1.0, 1.0]}\n"
     ]
    },
    {
     "data": {
      "text/plain": [
       "[<matplotlib.lines.Line2D at 0xc59f2e8>]"
      ]
     },
     "execution_count": 10,
     "metadata": {},
     "output_type": "execute_result"
    },
    {
     "data": {
      "image/png": "[encoded data removed]",
      "text/plain": [
       "<matplotlib.figure.Figure at 0x8e9d3c8>"
      ]
     },
     "metadata": {},
     "output_type": "display_data"
    }
   ],
   "source": [
    "print(hist.history)\n",
    "validation_loss = list(hist.history.values())[0]\n",
    "plt.plot(range(EPOCHS), validation_loss)"
   ]
  },
  {
   "cell_type": "code",
   "execution_count": null,
   "metadata": {
    "collapsed": true
   },
   "outputs": [],
   "source": []
  }
 ],
 "metadata": {
  "anaconda-cloud": {},
  "kernelspec": {
   "display_name": "Python [conda env:sdscbio]",
   "language": "python",
   "name": "conda-env-sdscbio-py"
  },
  "language_info": {
   "codemirror_mode": {
    "name": "ipython",
    "version": 3
   },
   "file_extension": ".py",
   "mimetype": "text/x-python",
   "name": "python",
   "nbconvert_exporter": "python",
   "pygments_lexer": "ipython3",
   "version": "3.5.2"
  }
 },
 "nbformat": 4,
 "nbformat_minor": 1
}
