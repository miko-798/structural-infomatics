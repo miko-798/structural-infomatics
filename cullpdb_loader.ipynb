{
 "cells": [
  {
   "cell_type": "code",
   "execution_count": 22,
   "metadata": {
    "collapsed": false
   },
   "outputs": [],
   "source": [
    "import gzip\n",
    "import os\n",
    "import numpy as np\n",
    "import matplotlib.pyplot as plt\n",
    "%matplotlib inline"
   ]
  },
  {
   "cell_type": "code",
   "execution_count": 62,
   "metadata": {
    "collapsed": false
   },
   "outputs": [],
   "source": [
    "FILE = \"data/cullpdb+profile_6133.npy.gz\"\n",
    "FILEPATH = os.path.abspath(os.path.join(os.getcwd(), FILE))\n",
    "\n",
    "TRAIN = 5600\n",
    "TEST = 5877\n",
    "VAL = 6133\n",
    "\n",
    "RESIDUES = 22\n",
    "LABELS = 31"
   ]
  },
  {
   "cell_type": "markdown",
   "metadata": {},
   "source": [
    "The 57 features are:<br>\n",
    "\"[0,22): amino acid residues, with the order of 'A', 'C', 'E', 'D', 'G', 'F', 'I', 'H', 'K', 'M', 'L', 'N', 'Q', 'P', 'S', 'R', 'T', 'W', 'V', 'Y', 'X','NoSeq'\"<br>\n",
    "\"[22,31): Secondary structure labels, with the sequence of 'L', 'B', 'E', 'G', 'I', 'H', 'S', 'T','NoSeq'\"<br>\n",
    "\"[31,33): N- and C- terminals;\"<br>\n",
    "\"[33,35): relative and absolute solvent accessibility, used only for training. (absolute accessibility is thresholded at 15; relative accessibility is normalized by the largest accessibility value in a protein and thresholded at 0.15; original solvent accessibility is computed by DSSP)\"<br>\n",
    "\"[35,57): sequence profile. Note the order of amino acid residues is ACDEFGHIKLMNPQRSTVWXY and it is different from the order for amino acid residues\"<br>\n",
    "<br>\n",
    "The last feature of both amino acid residues and secondary structure labels just mark end of the protein sequence.<br>\n",
    "\"[22,31) and [33,35) are hidden during testing.\"<br>\n",
    "\n",
    "\n",
    "\"The dataset division for the first \"\"cullpdb+profile_6133.npy.gz\"\" dataset is\"<br>\n",
    "\"[0,5600) training\"<br>\n",
    "\"[5605,5877) test \"<br>\n",
    "\"[5877,6133) validation\"<br>"
   ]
  },
  {
   "cell_type": "code",
   "execution_count": 51,
   "metadata": {
    "collapsed": false
   },
   "outputs": [
    {
     "name": "stdout",
     "output_type": "stream",
     "text": [
      "[ 0.  0.  0.  0.  0.  0.  0.  0.  0.  0.  1.  0.  0.  0.  0.  0.  0.  0.\n",
      "  0.  0.  0.  0.]\n",
      "[ 1.  0.  0.  0.  0.  0.  0.  0.  0.]\n",
      "[ 1.  0.]\n",
      "[ 1.  1.]\n",
      "[ 0.03732689  0.03591585  0.0038724   0.00910306  0.16520487  0.00419357\n",
      "  0.01109614  0.8415758   0.01536771  0.99253476  0.99809235  0.00618146\n",
      "  0.00792324  0.02685712  0.01781043  0.01521712  0.05069032  0.4329071\n",
      "  0.02484354  0.26894143  0.04608883  0.        ]\n"
     ]
    }
   ],
   "source": [
    "#print(data[0][0:22])\n",
    "#print(data[0][22:31])\n",
    "#print(data[0][31:33])\n",
    "#print(data[0][33:35])\n",
    "#print(data[0][35:57])"
   ]
  },
  {
   "cell_type": "code",
   "execution_count": 56,
   "metadata": {
    "collapsed": false
   },
   "outputs": [],
   "source": [
    "def load_file(file_path, absolute=False, verbose=True):\n",
    "    if not absolute:\n",
    "        file_path = os.path.abspath(os.path.join(os.getcwd(), file_path))\n",
    "    if verbose:\n",
    "        print(\"Loading file from \", file_path, \"...\", sep=\"\")\n",
    "    try:\n",
    "        data = np.load(file_path)\n",
    "        if verbose:\n",
    "            print(\"File Loaded.\")\n",
    "        return data\n",
    "    except:\n",
    "        print(\"\\n\\nFile could not be found at\", file_path, \"\\n\\n\")\n",
    "        return None"
   ]
  },
  {
   "cell_type": "code",
   "execution_count": 75,
   "metadata": {
    "collapsed": true
   },
   "outputs": [],
   "source": [
    "def load_residues(file_path, absolute=False, verbose=True):\n",
    "    if verbose:\n",
    "        print(\"Loading protein residues and labels...\")\n",
    "    data = load_file(file_path, absolute, verbose)\n",
    "    if data is None:\n",
    "        return None, None, None\n",
    "    \n",
    "    # extract training residues (first 22 features of first 5600 proteins)\n",
    "    train_x = np.array( [data[i][0:RESIDUES] for i in range(TRAIN)] )\n",
    "    train_y = np.array( [data[i][RESIDUES:LABELS] for i in range(TRAIN)] )\n",
    "    \n",
    "    test_x = np.array( [data[i][0:RESIDUES] for i in range(TRAIN, TEST)] )\n",
    "    test_y = np.array( [data[i][RESIDUES:LABELS] for i in range(TRAIN, TEST)] )\n",
    "    \n",
    "    val_x = np.array( [data[i][0:RESIDUES] for i in range(TEST, VAL)] )\n",
    "    val_y = np.array( [data[i][RESIDUES:LABELS] for i in range(TEST, VAL)] )\n",
    "    \n",
    "    if verbose:\n",
    "        print(\"Loaded protein residues and labels.\")\n",
    "    return (train_x, train_y), (val_x, val_y), (test_x, test_y)"
   ]
  },
  {
   "cell_type": "code",
   "execution_count": 76,
   "metadata": {
    "collapsed": false
   },
   "outputs": [
    {
     "name": "stdout",
     "output_type": "stream",
     "text": [
      "Loading protein residues and labels...\n",
      "Loading file from C:\\SANJAY\\CS\\Projects\\sdscbio\\data\\cullpdb+profile_6133.npy.gz...\n",
      "File Loaded\n",
      "Loaded protein residues and labels\n"
     ]
    }
   ],
   "source": []
  },
  {
   "cell_type": "code",
   "execution_count": 81,
   "metadata": {
    "collapsed": false
   },
   "outputs": [
    {
     "name": "stdout",
     "output_type": "stream",
     "text": [
      "22\n"
     ]
    }
   ],
   "source": []
  },
  {
   "cell_type": "code",
   "execution_count": null,
   "metadata": {
    "collapsed": true
   },
   "outputs": [],
   "source": []
  }
 ],
 "metadata": {
  "kernelspec": {
   "display_name": "Python [conda env:sdscbio]",
   "language": "python",
   "name": "conda-env-sdscbio-py"
  },
  "language_info": {
   "codemirror_mode": {
    "name": "ipython",
    "version": 3
   },
   "file_extension": ".py",
   "mimetype": "text/x-python",
   "name": "python",
   "nbconvert_exporter": "python",
   "pygments_lexer": "ipython3",
   "version": "3.5.2"
  }
 },
 "nbformat": 4,
 "nbformat_minor": 1
}
