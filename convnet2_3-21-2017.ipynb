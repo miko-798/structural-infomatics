{
 "cells": [
  {
   "cell_type": "markdown",
   "metadata": {},
   "source": [
    "# Simple Convolutional Q8 Classification -- 3/21/2017"
   ]
  },
  {
   "cell_type": "markdown",
   "metadata": {},
   "source": [
    "## Imports"
   ]
  },
  {
   "cell_type": "code",
   "execution_count": 1,
   "metadata": {
    "collapsed": false
   },
   "outputs": [
    {
     "name": "stderr",
     "output_type": "stream",
     "text": [
      "Using TensorFlow backend.\n"
     ]
    }
   ],
   "source": [
    "import numpy as np\n",
    "import tensorflow as tf\n",
    "import matplotlib.pyplot as plt\n",
    "%matplotlib inline\n",
    "\n",
    "from keras.models import Sequential, load_model\n",
    "from keras.layers import Dense, Activation, Flatten, Reshape\n",
    "from keras.layers.convolutional import Convolution1D\n",
    "from keras import optimizers\n",
    "from keras.regularizers import l2\n",
    "\n",
    "\n",
    "import cullpdb_loader"
   ]
  },
  {
   "cell_type": "markdown",
   "metadata": {},
   "source": [
    "## Constants and Hyperparameters"
   ]
  },
  {
   "cell_type": "code",
   "execution_count": 2,
   "metadata": {
    "collapsed": true
   },
   "outputs": [],
   "source": [
    "NUM_RESIDUES = 700  # per protein\n",
    "RESIDUE_SIZE = 22   # size of one hot vector per residue\n",
    "NUM_CLASSES = 9     # 8 + 'NoSeq'\n",
    "\n",
    "FILTERS = 9    # Dimensions output\n",
    "                  # equivalently, size of output by each convolutional layer\n",
    "WINDOW_SIZE = 11  # \"scope\" of convolution (ie 11 total residues)\n",
    "\n",
    "TWO_D = True\n",
    "if TWO_D:\n",
    "    INPUT_SHAPE = (NUM_RESIDUES, RESIDUE_SIZE)  # see below\n",
    "else:\n",
    "    INPUT_SHAPE = (NUM_RESIDUES * RESIDUE_SIZE,)\n",
    "OUTPUT_SIZE = NUM_CLASSES*NUM_RESIDUES      # output matrix holding predictions\n",
    "#OUTPUT_SIZE = NUM_CLASSES\n",
    "\n",
    "LEARNING_RATE = 0.001\n",
    "GAMMA = 0.9  # momentum coefficient\n",
    "EPOCHS = 30  # iterations of training, total dataset covered once each epoch\n",
    "LOSS='categorical_crossentropy'\n",
    "OPTIMIZER = optimizers.SGD(lr=LEARNING_RATE, momentum=0, nesterov=False)\n",
    "\n",
    "SAVE_FILE = \"models/dense-filtered-3-20\"\n",
    "DATA = \"data/cullpdb+profile_6133.npy.gz\"\n",
    "DATA_FILTERED = \"data/cullpdb+profile_6133_filtered.npy.gz\"\n",
    "DATA_TEST = \"data/cb513+profile_split1.npy.gz\""
   ]
  },
  {
   "cell_type": "markdown",
   "metadata": {},
   "source": [
    "## Load Data\n",
    "<b>Data:</b><br> _x represents input proteins, _y represents target structure classifications (each as one-hot vectors) <br><br>\n",
    "<b>Data Shape:</b><br> First dimension represents number of proteins, second number of residues per protein, and third size of residue or structure vector.<br> For example, train_x is shape (5600, 700, 22): it is an <b>m \\* n \\* p</b> matrix where there are <b>m</b> proteins (each row), <b>n</b> residues per protein (each column), and <b>p</b> sized vectors to represent a single residue or a single structure (each \"slice\")."
   ]
  },
  {
   "cell_type": "code",
   "execution_count": 3,
   "metadata": {
    "collapsed": false
   },
   "outputs": [
    {
     "name": "stdout",
     "output_type": "stream",
     "text": [
      "Loading protein residues and labels...\n",
      "Loading file from C:\\SANJAY\\CS\\Projects\\sdscbio\\data\\cullpdb+profile_6133_filtered.npy.gz...\n",
      "File Loaded.\n",
      "Loaded protein residues and labels.\n",
      "Reshaping...\n",
      "Reshaped\n",
      "Loading file from C:\\SANJAY\\CS\\Projects\\sdscbio\\data\\cb513+profile_split1.npy.gz...\n",
      "File Loaded.\n",
      "Residues:\n",
      "FDYQTVYFANQYGLRTIELGESEFVDNTLDNQHKXVIKAAWGGGYTNRNNVVINFKVDESLCDNLYFKDTDQPLVPXPASYYTLASDRIAIPKGQIXAGVEVQLTDDFFADEKSISENYVIPLLXTNVQGADSILQGKPVVENPVLTNAGDWSILPQNFVLYAVKYVNPWHGEYLRRGIDHATVAGTSKDIIRHEQFVENDEVVNISTKSXKDNLLTLKTKDESGKDISYTVRLSFAEDGSCTVHSGSQNVVVSGSGKFVSKGEKNSLGGKDRNAIYLDYTVNLTDNNIQLATKDTLVLRTRNVYGGKSLEVVRK\n",
      "Labels:\n",
      "LLLLEEELSLSEEEEEEELSLLSSSLLHHHHTTEEEEEEEEESSSSLLSLEEEEEEELGGGGTTLEETTTLLBLEELLGGGEEESLSEEEELTTLSEEEEEEEELHHHHHSGGGGSSLEEEEEEEEEEESSSEELLLEESSSSLLTTLGGGEEELLLSEEEEEEEEELTTLEEEEEEEEEEEEETTEEEEEEELLSSGGGSEEEEEEESSSSEEEEEEEEELTTSLEEEEEEEEEELTTSEEEEEELSTTLEEEEEEEEEEEEETTLGGGSLEEEEEEEEEEEETTTTEEEEEEEEEEEEELLLLSEEELLEELL\n",
      "train_x: (1, 700, 22)\n",
      "train_y (1, 6300)\n",
      "test_x: (514, 700, 22)\n",
      "test_y: (514, 6300)\n"
     ]
    }
   ],
   "source": [
    "train = cullpdb_loader.load_residues(DATA_FILTERED, split=False, two_d=TWO_D)  # load from my helper file\n",
    "\n",
    "test = cullpdb_loader.load_cb513(DATA_TEST, two_d=TWO_D)\n",
    "\n",
    "# train, validation, and test were loaded as tuples of (input, output);\n",
    "# here we unpack them into separate variables:\n",
    "train_x, train_y = train\n",
    "train_x, train_y = train_x[:1], train_y[:1]\n",
    "#vali_x, vali_y = validation\n",
    "test_x, test_y = test\n",
    "#test_x, test_y = test_x[:20], test_y[:20]\n",
    "\n",
    "cullpdb_loader.print_residues(train_x[0], labels=train_y[0], two_d=TWO_D)\n",
    "\n",
    "train_y = train_y.reshape(len(train_y), NUM_CLASSES*NUM_RESIDUES)\n",
    "test_y = test_y.reshape(len(test_y), NUM_CLASSES*NUM_RESIDUES)\n",
    "\n",
    "\n",
    "# print to verify data was loaded in correct shapes:\n",
    "print(\"train_x:\", train_x.shape)\n",
    "print(\"train_y\", train_y.shape)\n",
    "#print(vali_x.shape)\n",
    "#print(vali_y.shape)\n",
    "print(\"test_x:\", test_x.shape)\n",
    "print(\"test_y:\", test_y.shape)"
   ]
  },
  {
   "cell_type": "markdown",
   "metadata": {},
   "source": [
    "### Custom Accuracy Metric (Test)\n",
    "\n",
    "Currently, if inputs and outputs are both 2D (samples, protein length, num residues/classes) and the final layer of model is Reshape (from flattened to 2D), then Keras does not compute correct loss (wrong default axis maybe?). If inputs and outputs are both 1D (samples, length * residues), then Keras calculates loss correctly (sort of) but cannot compute accuracy (no notion of separate class one-hot vectors since they are all flattened).\n",
    "<br><br>\n",
    "Working fix: Omit Reshape layer, use default Keras loss, reshape labels to 1D, and define custom accuracy to reshape outputs to 2D before comparing to predicted labels.\n",
    "<br><br>\n",
    "TODO: Define custom Loss function to calculate correct loss on 2d inputs/outputs, use default accuracy, add Reshape layer to end of model, and don't have to reshape any inputs or labels manually."
   ]
  },
  {
   "cell_type": "code",
   "execution_count": 4,
   "metadata": {
    "collapsed": false
   },
   "outputs": [],
   "source": [
    "# reshape 1d to 2d, compute acc\n",
    "def custom_acc(obs, pred):\n",
    "    if TWO_D:\n",
    "        obs1 = tf.reshape(obs, [-1, 700, 9])\n",
    "        pred1 = tf.reshape(pred, [-1, 700, 9])\n",
    "        return tf.reduce_mean(tf.cast(\n",
    "                tf.equal(tf.argmax(obs1, axis=2), tf.argmax(pred1, axis=2)),\n",
    "                tf.float32))\n",
    "\n",
    "# not working\n",
    "def custom_loss(obs, pred):\n",
    "    pred = tf.Variable(pred)\n",
    "    pred.set_shape([None, NUM_RESIDUES, NUM_CLASSES])\n",
    "    obs = tf.Variable(obs)\n",
    "    obs.set_shape([None, NUM_RESIDUES, NUM_CLASSES])\n",
    "    return tf.nn.softmax_cross_entropy_with_logits(labels=pred, logits=obs, name='custom-loss')"
   ]
  },
  {
   "cell_type": "markdown",
   "metadata": {},
   "source": [
    "## Model Architecture\n",
    "The model is constructed to currently have 3 convolutional layers.<br><br>\n",
    "A convolutional window \"slides\" across the input, each time taking the nearest <i>WINDOW_SIZE</i> number of features (residues) as inputs and outputing a single vector of dimension<i>FILTERS</i>.\n",
    "<br><br>\n",
    "This 3d data (samples, Protein Length, <i>FILTER_SIZE</i>) is flattened to 2d (samples, Length \\* <i>FILTER_SIZE</i>). Finally a \"dense\", fully connected layer reduces the dimensionality of the data from the previous <i>FILTERS</i> dimensions to <i>OUTPUT_SIZE</i> dimensions (here 9, 8 for each secondary structure class and 1 for None)."
   ]
  },
  {
   "cell_type": "code",
   "execution_count": 5,
   "metadata": {
    "collapsed": false
   },
   "outputs": [],
   "source": [
    "model = Sequential()\n",
    "\n",
    "# border_mode indicates how the convolution handles the edges of the input (where the window \"sticks out\").\n",
    "# The 'same' setting pads the inputs with zeros on either side.\n",
    "# Only the first layer requires an input_shape parameter; successive layers infer it from within the model.\n",
    "\n",
    "# 1st layer\n",
    "model.add(Convolution1D(\n",
    "        1, WINDOW_SIZE, activation='tanh', border_mode='same', input_shape=INPUT_SHAPE))\n",
    "# 2nd layer\n",
    "#model.add(Convolution1D(\n",
    "#        FILTERS, WINDOW_SIZE, activation='tanh', border_mode='same'))\n",
    "# 3rd layer\n",
    "#model.add(Convolution1D(\n",
    "#        FILTERS, WINDOW_SIZE, activation='tanh', border_mode='same'))\n",
    "\n",
    "# 4th layer\n",
    "#model.add(Convolution1D(LAYER_SIZE, WINDOW_SIZE,\n",
    "#                        activation=Activation('tanh'), border_mode='same'))\n",
    "# 5th layer\n",
    "#model.add(Convolution1D(LAYER_SIZE, WINDOW_SIZE, \n",
    "#                        activation=Activation('tanh'), border_mode='same'))\n",
    "\n",
    "# Experiment - Dense final layer\n",
    "# 'lecun_uniform' indicates that the weights should be initialized to small random values in a certain normal distribution.\n",
    "model.add(Flatten())\n",
    "#model.add(Dense(OUTPUT_SIZE, init='lecun_uniform', activation='tanh')\n",
    "model.add(Dense(OUTPUT_SIZE, init='lecun_uniform', name=\"OutputLayer\", activation='softmax'))\n",
    "#model.add(Reshape((NUM_RESIDUES, NUM_CLASSES)))"
   ]
  },
  {
   "cell_type": "markdown",
   "metadata": {},
   "source": [
    "### Compile the model given a loss function, optimizer, and learning rate (specified above)"
   ]
  },
  {
   "cell_type": "code",
   "execution_count": 6,
   "metadata": {
    "collapsed": false
   },
   "outputs": [],
   "source": [
    "# optimizer= takes either string or optimizer object\n",
    "model.compile(loss=LOSS, optimizer=OPTIMIZER, metrics=[custom_acc])"
   ]
  },
  {
   "cell_type": "markdown",
   "metadata": {},
   "source": [
    "### Train the model on training data against target training labels, show accuracy on validation data each epoch"
   ]
  },
  {
   "cell_type": "code",
   "execution_count": 7,
   "metadata": {
    "collapsed": false
   },
   "outputs": [
    {
     "name": "stdout",
     "output_type": "stream",
     "text": [
      "Train on 1 samples, validate on 514 samples\n",
      "Epoch 1/30\n",
      "1s - loss: 6178.6128 - custom_acc: 0.1114 - val_loss: 6371.0175 - val_custom_acc: 0.1055\n",
      "Epoch 2/30\n",
      "1s - loss: 6337.6108 - custom_acc: 0.0986 - val_loss: 6122.7758 - val_custom_acc: 0.1369\n",
      "Epoch 3/30\n",
      "1s - loss: 6091.8711 - custom_acc: 0.1814 - val_loss: 6220.7234 - val_custom_acc: 0.1600\n",
      "Epoch 4/30\n",
      "1s - loss: 6066.8848 - custom_acc: 0.2157 - val_loss: 6097.3888 - val_custom_acc: 0.2169\n",
      "Epoch 5/30\n",
      "1s - loss: 5909.9453 - custom_acc: 0.3686 - val_loss: 6085.3985 - val_custom_acc: 0.2702\n",
      "Epoch 6/30\n",
      "1s - loss: 5736.5713 - custom_acc: 0.5043 - val_loss: 5995.1932 - val_custom_acc: 0.3505\n",
      "Epoch 7/30\n",
      "1s - loss: 5542.4229 - custom_acc: 0.6871 - val_loss: 5922.0507 - val_custom_acc: 0.4365\n",
      "Epoch 8/30\n",
      "1s - loss: 5368.1211 - custom_acc: 0.8671 - val_loss: 5865.4302 - val_custom_acc: 0.5011\n",
      "Epoch 9/30\n",
      "1s - loss: 5220.3164 - custom_acc: 0.9514 - val_loss: 5825.8814 - val_custom_acc: 0.5433\n",
      "Epoch 10/30\n",
      "1s - loss: 5099.3911 - custom_acc: 0.9900 - val_loss: 5801.5728 - val_custom_acc: 0.5627\n",
      "Epoch 11/30\n",
      "1s - loss: 5002.8120 - custom_acc: 0.9986 - val_loss: 5789.8324 - val_custom_acc: 0.5725\n",
      "Epoch 12/30\n",
      "1s - loss: 4927.0117 - custom_acc: 1.0000 - val_loss: 5787.8931 - val_custom_acc: 0.5761\n",
      "Epoch 13/30\n",
      "1s - loss: 4868.1914 - custom_acc: 1.0000 - val_loss: 5793.2489 - val_custom_acc: 0.5784\n",
      "Epoch 14/30\n",
      "1s - loss: 4822.7822 - custom_acc: 1.0000 - val_loss: 5803.7859 - val_custom_acc: 0.5785\n",
      "Epoch 15/30\n",
      "1s - loss: 4787.6865 - custom_acc: 1.0000 - val_loss: 5817.8009 - val_custom_acc: 0.5785\n",
      "Epoch 16/30\n",
      "1s - loss: 4760.3594 - custom_acc: 1.0000 - val_loss: 5833.9736 - val_custom_acc: 0.5785\n",
      "Epoch 17/30\n",
      "1s - loss: 4738.8018 - custom_acc: 1.0000 - val_loss: 5851.3323 - val_custom_acc: 0.5785\n",
      "Epoch 18/30\n",
      "1s - loss: 4721.5220 - custom_acc: 1.0000 - val_loss: 5869.2009 - val_custom_acc: 0.5785\n",
      "Epoch 19/30\n",
      "1s - loss: 4707.4287 - custom_acc: 1.0000 - val_loss: 5887.1347 - val_custom_acc: 0.5785\n",
      "Epoch 20/30\n",
      "1s - loss: 4695.7524 - custom_acc: 1.0000 - val_loss: 5904.8548 - val_custom_acc: 0.5785\n",
      "Epoch 21/30\n",
      "1s - loss: 4685.9414 - custom_acc: 1.0000 - val_loss: 5922.1938 - val_custom_acc: 0.5785\n",
      "Epoch 22/30\n",
      "1s - loss: 4677.6021 - custom_acc: 1.0000 - val_loss: 5939.0574 - val_custom_acc: 0.5785\n",
      "Epoch 23/30\n",
      "1s - loss: 4670.4395 - custom_acc: 1.0000 - val_loss: 5955.3961 - val_custom_acc: 0.5785\n",
      "Epoch 24/30\n",
      "1s - loss: 4664.2329 - custom_acc: 1.0000 - val_loss: 5971.1895 - val_custom_acc: 0.5785\n",
      "Epoch 25/30\n",
      "1s - loss: 4658.8140 - custom_acc: 1.0000 - val_loss: 5986.4362 - val_custom_acc: 0.5785\n",
      "Epoch 26/30\n",
      "1s - loss: 4654.0454 - custom_acc: 1.0000 - val_loss: 6001.1454 - val_custom_acc: 0.5785\n",
      "Epoch 27/30\n",
      "1s - loss: 4649.8223 - custom_acc: 1.0000 - val_loss: 6015.3334 - val_custom_acc: 0.5785\n",
      "Epoch 28/30\n",
      "1s - loss: 4646.0605 - custom_acc: 1.0000 - val_loss: 6029.0211 - val_custom_acc: 0.5785\n",
      "Epoch 29/30\n",
      "1s - loss: 4642.6914 - custom_acc: 1.0000 - val_loss: 6042.2297 - val_custom_acc: 0.5785\n",
      "Epoch 30/30\n",
      "1s - loss: 4639.6592 - custom_acc: 1.0000 - val_loss: 6054.9820 - val_custom_acc: 0.5785\n",
      "Done training\n"
     ]
    }
   ],
   "source": [
    "# verbose: 0 for no logging to stdout, 1 for progress bar logging, 2 for one log line per epoch.\n",
    "hist = model.fit(train_x, train_y, nb_epoch=EPOCHS, shuffle=False, verbose=2,\n",
    "                 validation_data=(test_x, test_y))\n",
    "print(\"Done training\")"
   ]
  },
  {
   "cell_type": "code",
   "execution_count": 8,
   "metadata": {
    "collapsed": false
   },
   "outputs": [],
   "source": [
    "model.save(SAVE_FILE)"
   ]
  },
  {
   "cell_type": "code",
   "execution_count": 9,
   "metadata": {
    "collapsed": false
   },
   "outputs": [
    {
     "data": {
      "text/plain": [
       "[<matplotlib.lines.Line2D at 0xc8c7208>]"
      ]
     },
     "execution_count": 9,
     "metadata": {},
     "output_type": "execute_result"
    },
    {
     "data": {
      "image/png": "[encoded data removed]",
      "text/plain": [
       "<matplotlib.figure.Figure at 0xc881550>"
      ]
     },
     "metadata": {},
     "output_type": "display_data"
    }
   ],
   "source": [
    "vali_loss = list(hist.history.values())[1]\n",
    "plt.plot(range(EPOCHS), vali_loss)"
   ]
  },
  {
   "cell_type": "markdown",
   "metadata": {},
   "source": [
    "## Test Accuracy on cb513"
   ]
  },
  {
   "cell_type": "code",
   "execution_count": 10,
   "metadata": {
    "collapsed": false
   },
   "outputs": [
    {
     "name": "stdout",
     "output_type": "stream",
     "text": [
      "514/514 [==============================] - 1s     \n",
      "[6054.9820000911968, 0.57846581492326599]\n"
     ]
    }
   ],
   "source": [
    "test_acc = model.evaluate(test_x, test_y)\n",
    "print(test_acc)"
   ]
  },
  {
   "cell_type": "code",
   "execution_count": 11,
   "metadata": {
    "collapsed": false
   },
   "outputs": [
    {
     "name": "stdout",
     "output_type": "stream",
     "text": [
      "Shape: (1, 6300)\n"
     ]
    }
   ],
   "source": [
    "i = 0\n",
    "prediction = model.predict(train_x[i:i+1])\n",
    "print(\"Shape:\", prediction.shape)"
   ]
  },
  {
   "cell_type": "code",
   "execution_count": 12,
   "metadata": {
    "collapsed": false
   },
   "outputs": [
    {
     "name": "stdout",
     "output_type": "stream",
     "text": [
      "(1, 6300)\n",
      "(1, 6300)\n"
     ]
    }
   ],
   "source": [
    "train_x = train_x.reshape(len(train_x), 700*22)\n",
    "train_y = train_y.reshape(len(train_y), NUM_CLASSES*NUM_RESIDUES)\n",
    "prediction = prediction.reshape(len(prediction), 700*9)\n",
    "test_x = test_x.reshape(len(test_x), RESIDUE_SIZE*NUM_RESIDUES)\n",
    "test_y = test_y.reshape(len(test_y), NUM_CLASSES*NUM_RESIDUES)\n",
    "print(train_y.shape)\n",
    "print(prediction.shape)\n",
    "TWO_D = False"
   ]
  },
  {
   "cell_type": "code",
   "execution_count": 13,
   "metadata": {
    "collapsed": false
   },
   "outputs": [
    {
     "name": "stdout",
     "output_type": "stream",
     "text": [
      "Expected:\n",
      "\n",
      "Residues:\n",
      "FDYQTVYFANQYGLRTIELGESEFVDNTLDNQHKXVIKAAWGGGYTNRNNVVINFKVDESLCDNLYFKDTDQPLVPXPASYYTLASDRIAIPKGQIXAGVEVQLTDDFFADEKSISENYVIPLLXTNVQGADSILQGKPVVENPVLTNAGDWSILPQNFVLYAVKYVNPWHGEYLRRGIDHATVAGTSKDIIRHEQFVENDEVVNISTKSXKDNLLTLKTKDESGKDISYTVRLSFAEDGSCTVHSGSQNVVVSGSGKFVSKGEKNSLGGKDRNAIYLDYTVNLTDNNIQLATKDTLVLRTRNVYGGKSLEVVRK\n",
      "Labels:\n",
      "LLLLEEELSLSEEEEEEELSLLSSSLLHHHHTTEEEEEEEEESSSSLLSLEEEEEEELGGGGTTLEETTTLLBLEELLGGGEEESLSEEEELTTLSEEEEEEEELHHHHHSGGGGSSLEEEEEEEEEEESSSEELLLEESSSSLLTTLGGGEEELLLSEEEEEEEEELTTLEEEEEEEEEEEEETTEEEEEEELLSSGGGSEEEEEEESSSSEEEEEEEEELTTSLEEEEEEEEEELTTSEEEEEELSTTLEEEEEEEEEEEEETTLGGGSLEEEEEEEEEEEETTTTEEEEEEEEEEEEELLLLSEEELLEELL\n",
      "\n",
      "Predicted:\n",
      "\n",
      "Residues:\n",
      "FDYQTVYFANQYGLRTIELGESEFVDNTLDNQHKXVIKAAWGGGYTNRNNVVINFKVDESLCDNLYFKDTDQPLVPXPASYYTLASDRIAIPKGQIXAGVEVQLTDDFFADEKSISENYVIPLLXTNVQGADSILQGKPVVENPVLTNAGDWSILPQNFVLYAVKYVNPWHGEYLRRGIDHATVAGTSKDIIRHEQFVENDEVVNISTKSXKDNLLTLKTKDESGKDISYTVRLSFAEDGSCTVHSGSQNVVVSGSGKFVSKGEKNSLGGKDRNAIYLDYTVNLTDNNIQLATKDTLVLRTRNVYGGKSLEVVRK\n",
      "Labels:\n",
      "LLLLEEELSLSEEEEEEELSLLSSSLLHHHHTTEEEEEEEEESSSSLLSLEEEEEEELGGGGTTLEETTTLLBLEELLGGGEEESLSEEEELTTLSEEEEEEEELHHHHHSGGGGSSLEEEEEEEEEEESSSEELLLEESSSSLLTTLGGGEEELLLSEEEEEEEEELTTLEEEEEEEEEEEEETTEEEEEEELLSSGGGSEEEEEEESSSSEEEEEEEEELTTSLEEEEEEEEEELTTSEEEEEELSTTLEEEEEEEEEEEEETTLGGGSLEEEEEEEEEEEETTTTEEEEEEEEEEEEELLLLSEEELLEELL\n"
     ]
    }
   ],
   "source": [
    "print(\"Expected:\\n\")\n",
    "_ = cullpdb_loader.print_residues(train_x[i], labels=train_y[i], two_d=TWO_D)\n",
    "print(\"\\nPredicted:\\n\")\n",
    "_ = cullpdb_loader.print_residues(train_x[i], labels=prediction[i], two_d=TWO_D)"
   ]
  },
  {
   "cell_type": "code",
   "execution_count": null,
   "metadata": {
    "collapsed": true
   },
   "outputs": [],
   "source": []
  }
 ],
 "metadata": {
  "anaconda-cloud": {},
  "kernelspec": {
   "display_name": "Python [conda env:sdscbio]",
   "language": "python",
   "name": "conda-env-sdscbio-py"
  },
  "language_info": {
   "codemirror_mode": {
    "name": "ipython",
    "version": 3
   },
   "file_extension": ".py",
   "mimetype": "text/x-python",
   "name": "python",
   "nbconvert_exporter": "python",
   "pygments_lexer": "ipython3",
   "version": "3.5.2"
  }
 },
 "nbformat": 4,
 "nbformat_minor": 1
}
